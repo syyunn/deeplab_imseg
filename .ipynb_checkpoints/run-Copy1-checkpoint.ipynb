{
 "cells": [
  {
   "cell_type": "code",
   "execution_count": 1,
   "metadata": {},
   "outputs": [],
   "source": [
    "#@title Imports\n",
    "import os\n",
    "from io import BytesIO\n",
    "import tarfile\n",
    "import tempfile\n",
    "from six.moves import urllib\n",
    "import numpy as np\n",
    "from PIL import Image\n",
    "\n",
    "import tensorflow as tf"
   ]
  },
  {
   "cell_type": "code",
   "execution_count": 2,
   "metadata": {},
   "outputs": [],
   "source": [
    "import argparse"
   ]
  },
  {
   "cell_type": "code",
   "execution_count": 3,
   "metadata": {},
   "outputs": [],
   "source": [
    "import glob"
   ]
  },
  {
   "cell_type": "code",
   "execution_count": 4,
   "metadata": {},
   "outputs": [],
   "source": [
    "from src.DeepLabModel import DeepLabModel, label_to_color_image "
   ]
  },
  {
   "cell_type": "code",
   "execution_count": 5,
   "metadata": {},
   "outputs": [],
   "source": [
    "check = ['./models/mobilenetv2_coco_voctrainaug.tar.gz',\n",
    " './models/xception_coco_voctrainval.tar.gz',\n",
    " './models/xception_coco_voctrainaug.tar.gz',\n",
    " './models/mobilenetv2_coco_voctrainval.tar.gz']"
   ]
  },
  {
   "cell_type": "code",
   "execution_count": 6,
   "metadata": {},
   "outputs": [],
   "source": [
    "download = []\n",
    "for i in range(len(check)):\n",
    "    if not os.path.isfile(check[i]):\n",
    "        download.append(check[i].split('/')[2].split('.')[0])"
   ]
  },
  {
   "cell_type": "code",
   "execution_count": 7,
   "metadata": {},
   "outputs": [],
   "source": [
    "#@title Select and download models {display-mode: \"form\"}\n",
    "MODEL_CAND = download\n",
    "\n",
    "for i in range(len(MODEL_CAND)):\n",
    "    MODEL_NAME = MODEL_CAND[i]\n",
    "\n",
    "    _DOWNLOAD_URL_PREFIX = 'http://download.tensorflow.org/models/'\n",
    "    _MODEL_URLS = {\n",
    "        'mobilenetv2_coco_voctrainaug':\n",
    "            'deeplabv3_mnv2_pascal_train_aug_2018_01_29.tar.gz',\n",
    "        'mobilenetv2_coco_voctrainval':\n",
    "            'deeplabv3_mnv2_pascal_trainval_2018_01_29.tar.gz',\n",
    "        'xception_coco_voctrainaug':\n",
    "            'deeplabv3_pascal_train_aug_2018_01_04.tar.gz',\n",
    "        'xception_coco_voctrainval':\n",
    "            'deeplabv3_pascal_trainval_2018_01_04.tar.gz',\n",
    "    }\n",
    "    _TARBALL_NAME = MODEL_NAME+'.tar.gz'\n",
    "\n",
    "    model_dir = \"/Users/zachary/deeplab_imseg/models/\"\n",
    "    tf.gfile.MakeDirs(model_dir)\n",
    "\n",
    "    download_path = os.path.join(model_dir, _TARBALL_NAME)\n",
    "    print('downloading model, this might take a while...')\n",
    "    urllib.request.urlretrieve(_DOWNLOAD_URL_PREFIX + _MODEL_URLS[MODEL_NAME],\n",
    "                       download_path)\n",
    "    print('download completed! loading DeepLab model...')"
   ]
  },
  {
   "cell_type": "code",
   "execution_count": 8,
   "metadata": {},
   "outputs": [],
   "source": [
    "parser = argparse.ArgumentParser()"
   ]
  },
  {
   "cell_type": "code",
   "execution_count": 9,
   "metadata": {},
   "outputs": [
    {
     "data": {
      "text/plain": [
       "_StoreAction(option_strings=['--model'], dest='model', nargs=None, const=None, default='xception_coco_voctrainval', type=None, choices=['mobilenetv2_coco_voctrainaug', 'mobilenetv2_coco_voctrainval', 'xception_coco_voctrainaug', 'xception_coco_voctrainval'], help=None, metavar=None)"
      ]
     },
     "execution_count": 9,
     "metadata": {},
     "output_type": "execute_result"
    }
   ],
   "source": [
    "parser.add_argument(\"--model\", default= \"xception_coco_voctrainval\", choices=['mobilenetv2_coco_voctrainaug', 'mobilenetv2_coco_voctrainval','xception_coco_voctrainaug', 'xception_coco_voctrainval'])"
   ]
  },
  {
   "cell_type": "code",
   "execution_count": 10,
   "metadata": {},
   "outputs": [],
   "source": [
    "args, unknown = parser.parse_known_args()"
   ]
  },
  {
   "cell_type": "code",
   "execution_count": 11,
   "metadata": {},
   "outputs": [
    {
     "data": {
      "text/plain": [
       "'xception_coco_voctrainval'"
      ]
     },
     "execution_count": 11,
     "metadata": {},
     "output_type": "execute_result"
    }
   ],
   "source": [
    "args.model"
   ]
  },
  {
   "cell_type": "code",
   "execution_count": 12,
   "metadata": {},
   "outputs": [
    {
     "data": {
      "text/plain": [
       "['-f',\n",
       " '/Users/zachary/Library/Jupyter/runtime/kernel-ace25d2a-405c-4b68-80ed-61fd40f53879.json']"
      ]
     },
     "execution_count": 12,
     "metadata": {},
     "output_type": "execute_result"
    }
   ],
   "source": [
    "unknown #with the kernel, there always exist sys arg derived from the jupyter cell"
   ]
  },
  {
   "cell_type": "code",
   "execution_count": 13,
   "metadata": {},
   "outputs": [],
   "source": [
    "path = \"./models/\" + args.model + \".tar.gz\""
   ]
  },
  {
   "cell_type": "code",
   "execution_count": 14,
   "metadata": {},
   "outputs": [
    {
     "name": "stdout",
     "output_type": "stream",
     "text": [
      "model loaded successfully!\n"
     ]
    }
   ],
   "source": [
    "MODEL = DeepLabModel(path)\n",
    "print('model loaded successfully!')"
   ]
  },
  {
   "cell_type": "code",
   "execution_count": 15,
   "metadata": {},
   "outputs": [
    {
     "name": "stdout",
     "output_type": "stream",
     "text": [
      "['./img/sample.png', './img/sample2.png']\n",
      "[]\n",
      "[]\n"
     ]
    }
   ],
   "source": [
    "images = []\n",
    "im_type= [\"png\", \"jpg\", \"jpeg\"]\n",
    "for i in range(len(im_type)):\n",
    "    print(glob.glob(\"./img/*.\"+im_type[i]))\n",
    "    images = images + glob.glob(\"./img/*.\"+im_type[i])"
   ]
  },
  {
   "cell_type": "code",
   "execution_count": 16,
   "metadata": {},
   "outputs": [],
   "source": [
    "LABEL_NAMES = np.asarray([\n",
    "    'background', 'aeroplane', 'bicycle', 'bird', 'boat', 'bottle', 'bus',\n",
    "    'car', 'cat', 'chair', 'cow', 'diningtable', 'dog', 'horse', 'motorbike',\n",
    "    'person', 'pottedplant', 'sheep', 'sofa', 'train', 'tv'\n",
    "])\n",
    "FULL_LABEL_MAP = np.arange(len(LABEL_NAMES)).reshape(len(LABEL_NAMES), 1)\n",
    "FULL_COLOR_MAP = label_to_color_image(FULL_LABEL_MAP)"
   ]
  },
  {
   "cell_type": "code",
   "execution_count": 17,
   "metadata": {},
   "outputs": [],
   "source": [
    "def vis_segmentation(image, seg_map):\n",
    "    import numpy as np\n",
    "    \"\"\"Visualizes input image, segmentation map and overlay view.\"\"\"\n",
    "    from matplotlib import pyplot as plt\n",
    "    from matplotlib import gridspec\n",
    "\n",
    "    seg_image = label_to_color_image(seg_map).astype(np.uint8)\n",
    "    return seg_image"
   ]
  },
  {
   "cell_type": "code",
   "execution_count": 18,
   "metadata": {},
   "outputs": [],
   "source": [
    "for i in range(len(images)):\n",
    "    with open(images[i], \"rb\") as f:\n",
    "        jpeg_str = f.read()\n",
    "    original_im = Image.open(BytesIO(jpeg_str))\n",
    "    resized_im, seg_map = MODEL.run(original_im)\n",
    "    seg_image = Image.fromarray(vis_segmentation(resized_im, seg_map))\n",
    "    seg_image.save(\"./out/\"+images[i].split('/')[2])"
   ]
  },
  {
   "cell_type": "code",
   "execution_count": null,
   "metadata": {},
   "outputs": [],
   "source": [
    "if __name__ == \"__main__\":\n",
    "    lock = thread.allocate_lock()\n",
    "    thread.start_new_thread(myfunction, (\"Thread #: 1\", 2, lock))\n",
    "    thread.start_new_thread(myfunction, (\"Thread #: 2\", 2, lock))"
   ]
  }
 ],
 "metadata": {
  "kernelspec": {
   "display_name": "deeplab",
   "language": "python",
   "name": "deeplab"
  },
  "language_info": {
   "codemirror_mode": {
    "name": "ipython",
    "version": 3
   },
   "file_extension": ".py",
   "mimetype": "text/x-python",
   "name": "python",
   "nbconvert_exporter": "python",
   "pygments_lexer": "ipython3",
   "version": "3.6.6"
  }
 },
 "nbformat": 4,
 "nbformat_minor": 2
}
